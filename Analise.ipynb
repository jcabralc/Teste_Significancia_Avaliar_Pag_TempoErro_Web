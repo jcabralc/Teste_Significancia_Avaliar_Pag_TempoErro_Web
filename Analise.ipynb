{
 "cells": [
  {
   "cell_type": "markdown",
   "metadata": {},
   "source": [
    "# Testes de Significância Estatística Para Avaliar o Impacto do Tipo de Página no Tempo de Execução e Erros de Uma Aplicação Web"
   ]
  },
  {
   "cell_type": "markdown",
   "metadata": {},
   "source": [
    "## Estudo de Caso em Python\n",
    "\n",
    "O objetivo deste estudo de caso é realizar testes de significância estatística para analisar o efeito do tipo de página de uma aplicação web no tempo de execução da aplicação e nos erros que ocorrem na aplicação, ou seja, para descobrir se os tipos de página têm um efeito significativo no tempo e no erro. \n",
    "\n",
    "São 4 tipos diferentes de página que foram testados em um grupo de usuários e foram anotados seu tempo para usar a página, bem como quaisquer erros durante o uso da página. A realização de testes de significância como ANOVA, MANOVA e Testes T neste conjunto de dados nos ajuda a determinar se o tipo de página tem um efeito significativo e qual tipo de página tem o efeito mais significativo. \n",
    "\n",
    "## Hipóteses:\n",
    " - H0: As médias em todos os grupos são iguais\n",
    " - H1: Ao menos uma das médias é diferente das demais\n",
    "\n",
    "## Dicionário de Dados:\n",
    "\n",
    " - usuario: responsável pelo teste (não é relevante para esta análise).\n",
    " - tempo: está em segundos e representa o tempo de acesso para carregar completamente a página.\n",
    " - erro: número de erros ao carregar a página\n",
    " - pagina: tipo de pagina (principal, login, contato e produtos)\n"
   ]
  },
  {
   "cell_type": "markdown",
   "metadata": {},
   "source": [
    "Para mais informações: \n",
    "\n",
    "https://www.datascienceacademy.com.br/\n",
    "\n",
    "https://www.pythonfordatascience.org/anova-python/"
   ]
  },
  {
   "cell_type": "code",
   "execution_count": 1,
   "metadata": {},
   "outputs": [],
   "source": [
    "# Import dos Pacotes\n",
    "\n",
    "from pandas import read_csv\n",
    "import matplotlib.pyplot as plt\n",
    "import seaborn as sns\n",
    "\n",
    "# ANOVA\n",
    "import scipy.stats as stats\n",
    "import statsmodels.api as sm\n",
    "from statsmodels.formula.api import ols\n",
    "from statsmodels.stats.weightstats import ttost_paired\n",
    "import pingouin as pg\n",
    "\n",
    "# MANOVA\n",
    "from statsmodels.multivariate.manova import MANOVA\n",
    "\n",
    "%matplotlib inline\n",
    "\n",
    "plt.rcParams[\"figure.figsize\"] = (20,10)"
   ]
  },
  {
   "cell_type": "markdown",
   "metadata": {},
   "source": [
    "# Amostra 1 - Impacto do Tipo de Página no Tempo de Execução"
   ]
  },
  {
   "cell_type": "markdown",
   "metadata": {},
   "source": [
    "## Import dos Dados "
   ]
  },
  {
   "cell_type": "code",
   "execution_count": 2,
   "metadata": {},
   "outputs": [
    {
     "name": "stdout",
     "output_type": "stream",
     "text": [
      "(40, 2)\n"
     ]
    },
    {
     "data": {
      "text/html": [
       "<div>\n",
       "<style scoped>\n",
       "    .dataframe tbody tr th:only-of-type {\n",
       "        vertical-align: middle;\n",
       "    }\n",
       "\n",
       "    .dataframe tbody tr th {\n",
       "        vertical-align: top;\n",
       "    }\n",
       "\n",
       "    .dataframe thead th {\n",
       "        text-align: right;\n",
       "    }\n",
       "</style>\n",
       "<table border=\"1\" class=\"dataframe\">\n",
       "  <thead>\n",
       "    <tr style=\"text-align: right;\">\n",
       "      <th></th>\n",
       "      <th>tempo</th>\n",
       "      <th>pagina</th>\n",
       "    </tr>\n",
       "  </thead>\n",
       "  <tbody>\n",
       "    <tr>\n",
       "      <th>0</th>\n",
       "      <td>2.53</td>\n",
       "      <td>principal</td>\n",
       "    </tr>\n",
       "    <tr>\n",
       "      <th>1</th>\n",
       "      <td>2.10</td>\n",
       "      <td>principal</td>\n",
       "    </tr>\n",
       "    <tr>\n",
       "      <th>2</th>\n",
       "      <td>3.05</td>\n",
       "      <td>principal</td>\n",
       "    </tr>\n",
       "    <tr>\n",
       "      <th>3</th>\n",
       "      <td>2.32</td>\n",
       "      <td>principal</td>\n",
       "    </tr>\n",
       "    <tr>\n",
       "      <th>4</th>\n",
       "      <td>2.38</td>\n",
       "      <td>principal</td>\n",
       "    </tr>\n",
       "  </tbody>\n",
       "</table>\n",
       "</div>"
      ],
      "text/plain": [
       "   tempo     pagina\n",
       "0   2.53  principal\n",
       "1   2.10  principal\n",
       "2   3.05  principal\n",
       "3   2.32  principal\n",
       "4   2.38  principal"
      ]
     },
     "execution_count": 2,
     "metadata": {},
     "output_type": "execute_result"
    }
   ],
   "source": [
    "# Carregando o dataset1 (não precisamos da coluna usuario)\n",
    "dataset1 = read_csv(\"dataset1.csv\")[['tempo','pagina']]\n",
    "\n",
    "print(dataset1.shape)\n",
    "\n",
    "dataset1.head()"
   ]
  },
  {
   "cell_type": "markdown",
   "metadata": {},
   "source": [
    "## Análise Exploratória "
   ]
  },
  {
   "cell_type": "code",
   "execution_count": 3,
   "metadata": {},
   "outputs": [
    {
     "name": "stdout",
     "output_type": "stream",
     "text": [
      "<class 'pandas.core.frame.DataFrame'>\n",
      "RangeIndex: 40 entries, 0 to 39\n",
      "Data columns (total 2 columns):\n",
      "tempo     40 non-null float64\n",
      "pagina    40 non-null object\n",
      "dtypes: float64(1), object(1)\n",
      "memory usage: 768.0+ bytes\n"
     ]
    },
    {
     "data": {
      "text/plain": [
       "None"
      ]
     },
     "metadata": {},
     "output_type": "display_data"
    },
    {
     "data": {
      "text/html": [
       "<div>\n",
       "<style scoped>\n",
       "    .dataframe tbody tr th:only-of-type {\n",
       "        vertical-align: middle;\n",
       "    }\n",
       "\n",
       "    .dataframe tbody tr th {\n",
       "        vertical-align: top;\n",
       "    }\n",
       "\n",
       "    .dataframe thead th {\n",
       "        text-align: right;\n",
       "    }\n",
       "</style>\n",
       "<table border=\"1\" class=\"dataframe\">\n",
       "  <thead>\n",
       "    <tr style=\"text-align: right;\">\n",
       "      <th></th>\n",
       "      <th>tempo</th>\n",
       "    </tr>\n",
       "  </thead>\n",
       "  <tbody>\n",
       "    <tr>\n",
       "      <th>count</th>\n",
       "      <td>40.000000</td>\n",
       "    </tr>\n",
       "    <tr>\n",
       "      <th>mean</th>\n",
       "      <td>2.551750</td>\n",
       "    </tr>\n",
       "    <tr>\n",
       "      <th>std</th>\n",
       "      <td>0.321255</td>\n",
       "    </tr>\n",
       "    <tr>\n",
       "      <th>min</th>\n",
       "      <td>1.750000</td>\n",
       "    </tr>\n",
       "    <tr>\n",
       "      <th>25%</th>\n",
       "      <td>2.342500</td>\n",
       "    </tr>\n",
       "    <tr>\n",
       "      <th>50%</th>\n",
       "      <td>2.620000</td>\n",
       "    </tr>\n",
       "    <tr>\n",
       "      <th>75%</th>\n",
       "      <td>2.737500</td>\n",
       "    </tr>\n",
       "    <tr>\n",
       "      <th>max</th>\n",
       "      <td>3.150000</td>\n",
       "    </tr>\n",
       "  </tbody>\n",
       "</table>\n",
       "</div>"
      ],
      "text/plain": [
       "           tempo\n",
       "count  40.000000\n",
       "mean    2.551750\n",
       "std     0.321255\n",
       "min     1.750000\n",
       "25%     2.342500\n",
       "50%     2.620000\n",
       "75%     2.737500\n",
       "max     3.150000"
      ]
     },
     "metadata": {},
     "output_type": "display_data"
    },
    {
     "data": {
      "text/plain": [
       "login        10\n",
       "contato      10\n",
       "produtos     10\n",
       "principal    10\n",
       "Name: pagina, dtype: int64"
      ]
     },
     "metadata": {},
     "output_type": "display_data"
    }
   ],
   "source": [
    "# Tipos de dados e resumo estatístico\n",
    "display(dataset1.info())\n",
    "\n",
    "display(dataset1.describe())\n",
    "\n",
    "display(dataset1['pagina'].value_counts())"
   ]
  },
  {
   "cell_type": "code",
   "execution_count": 4,
   "metadata": {},
   "outputs": [
    {
     "data": {
      "text/plain": [
       "<matplotlib.axes._subplots.AxesSubplot at 0x19434eb6cc8>"
      ]
     },
     "execution_count": 4,
     "metadata": {},
     "output_type": "execute_result"
    },
    {
     "data": {
      "image/png": "[encoded data removed]",
      "text/plain": [
       "<Figure size 1440x720 with 1 Axes>"
      ]
     },
     "metadata": {
      "needs_background": "light"
     },
     "output_type": "display_data"
    }
   ],
   "source": [
    "# Histograma da coluna tempo\n",
    "dataset1['tempo'].hist()"
   ]
  },
  {
   "cell_type": "markdown",
   "metadata": {},
   "source": [
    "## Análise de Variância (ANOVA)\n",
    "\n",
    "Determina se as médias de três ou mais grupos são diferentes. A ANOVA usa testes F para testar estatisticamente a igualdade entre médias"
   ]
  },
  {
   "cell_type": "code",
   "execution_count": 5,
   "metadata": {},
   "outputs": [
    {
     "data": {
      "text/plain": [
       "F_onewayResult(statistic=3.454875032397825, pvalue=0.026371650474924298)"
      ]
     },
     "metadata": {},
     "output_type": "display_data"
    },
    {
     "data": {
      "text/plain": [
       "0.026371650474924298"
      ]
     },
     "execution_count": 5,
     "metadata": {},
     "output_type": "execute_result"
    }
   ],
   "source": [
    "# One-Way ANOVA com Scipy.Stats\n",
    "\n",
    "amostra_login = dataset1[dataset1['pagina'] == 'login']['tempo']\n",
    "amostra_contato = dataset1[dataset1['pagina'] == 'contato']['tempo']\n",
    "amostra_principal = dataset1[dataset1['pagina'] == 'principal']['tempo']\n",
    "amostra_produtos = dataset1[dataset1['pagina'] == 'produtos']['tempo']\n",
    "\n",
    "\n",
    "resultado_anova = stats.f_oneway(amostra_login,\n",
    "                                  amostra_contato,\n",
    "                                  amostra_principal,\n",
    "                                  amostra_produtos)\n",
    "display(resultado_anova)\n",
    "\n",
    "# Obtendo o Valor-p do teste\n",
    "resultado_anova[1]"
   ]
  },
  {
   "cell_type": "code",
   "execution_count": 6,
   "metadata": {},
   "outputs": [
    {
     "data": {
      "text/html": [
       "<div>\n",
       "<style scoped>\n",
       "    .dataframe tbody tr th:only-of-type {\n",
       "        vertical-align: middle;\n",
       "    }\n",
       "\n",
       "    .dataframe tbody tr th {\n",
       "        vertical-align: top;\n",
       "    }\n",
       "\n",
       "    .dataframe thead th {\n",
       "        text-align: right;\n",
       "    }\n",
       "</style>\n",
       "<table border=\"1\" class=\"dataframe\">\n",
       "  <thead>\n",
       "    <tr style=\"text-align: right;\">\n",
       "      <th></th>\n",
       "      <th>sum_sq</th>\n",
       "      <th>df</th>\n",
       "      <th>F</th>\n",
       "      <th>PR(&gt;F)</th>\n",
       "    </tr>\n",
       "  </thead>\n",
       "  <tbody>\n",
       "    <tr>\n",
       "      <th>C(pagina)</th>\n",
       "      <td>0.899768</td>\n",
       "      <td>3.0</td>\n",
       "      <td>3.454875</td>\n",
       "      <td>0.026372</td>\n",
       "    </tr>\n",
       "    <tr>\n",
       "      <th>Residual</th>\n",
       "      <td>3.125210</td>\n",
       "      <td>36.0</td>\n",
       "      <td>NaN</td>\n",
       "      <td>NaN</td>\n",
       "    </tr>\n",
       "  </tbody>\n",
       "</table>\n",
       "</div>"
      ],
      "text/plain": [
       "             sum_sq    df         F    PR(>F)\n",
       "C(pagina)  0.899768   3.0  3.454875  0.026372\n",
       "Residual   3.125210  36.0       NaN       NaN"
      ]
     },
     "metadata": {},
     "output_type": "display_data"
    },
    {
     "data": {
      "text/plain": [
       "0.026371650474924336"
      ]
     },
     "execution_count": 6,
     "metadata": {},
     "output_type": "execute_result"
    }
   ],
   "source": [
    "# One-Way ANOVA com StatsModels\n",
    "\n",
    "model_anova = ols('tempo ~ C(pagina)', data=dataset1).fit()\n",
    "resultado_anova = sm.stats.anova_lm(model_anova, typ=2) # Tipo 2 ANOVA \n",
    "display(resultado_anova)\n",
    "\n",
    "# Obtendo o Valor-p do teste\n",
    "resultado_anova.loc['C(pagina)', 'PR(>F)']"
   ]
  },
  {
   "cell_type": "code",
   "execution_count": 7,
   "metadata": {},
   "outputs": [
    {
     "data": {
      "text/html": [
       "<div>\n",
       "<style scoped>\n",
       "    .dataframe tbody tr th:only-of-type {\n",
       "        vertical-align: middle;\n",
       "    }\n",
       "\n",
       "    .dataframe tbody tr th {\n",
       "        vertical-align: top;\n",
       "    }\n",
       "\n",
       "    .dataframe thead th {\n",
       "        text-align: right;\n",
       "    }\n",
       "</style>\n",
       "<table border=\"1\" class=\"dataframe\">\n",
       "  <thead>\n",
       "    <tr style=\"text-align: right;\">\n",
       "      <th></th>\n",
       "      <th>Source</th>\n",
       "      <th>SS</th>\n",
       "      <th>DF</th>\n",
       "      <th>MS</th>\n",
       "      <th>F</th>\n",
       "      <th>p-unc</th>\n",
       "      <th>np2</th>\n",
       "    </tr>\n",
       "  </thead>\n",
       "  <tbody>\n",
       "    <tr>\n",
       "      <th>0</th>\n",
       "      <td>pagina</td>\n",
       "      <td>0.899768</td>\n",
       "      <td>3</td>\n",
       "      <td>0.299923</td>\n",
       "      <td>3.454875</td>\n",
       "      <td>0.026372</td>\n",
       "      <td>0.223546</td>\n",
       "    </tr>\n",
       "    <tr>\n",
       "      <th>1</th>\n",
       "      <td>Within</td>\n",
       "      <td>3.125210</td>\n",
       "      <td>36</td>\n",
       "      <td>0.086811</td>\n",
       "      <td>NaN</td>\n",
       "      <td>NaN</td>\n",
       "      <td>NaN</td>\n",
       "    </tr>\n",
       "  </tbody>\n",
       "</table>\n",
       "</div>"
      ],
      "text/plain": [
       "   Source        SS  DF        MS         F     p-unc       np2\n",
       "0  pagina  0.899768   3  0.299923  3.454875  0.026372  0.223546\n",
       "1  Within  3.125210  36  0.086811       NaN       NaN       NaN"
      ]
     },
     "metadata": {},
     "output_type": "display_data"
    },
    {
     "data": {
      "text/plain": [
       "0.026371650474924298"
      ]
     },
     "execution_count": 7,
     "metadata": {},
     "output_type": "execute_result"
    }
   ],
   "source": [
    "# One-Way ANOVA com Pingouin\n",
    "# https://pingouin-stats.org/generated/pingouin.anova.html\n",
    "\n",
    "resultado_anova = pg.anova(dv='tempo', between='pagina', data=dataset1, detailed=True)\n",
    "display(resultado_anova)\n",
    "\n",
    "# Obtendo o Valor-p do teste\n",
    "resultado_anova.loc[0, 'p-unc']"
   ]
  },
  {
   "cell_type": "markdown",
   "metadata": {},
   "source": [
    "### Conclusão:\n",
    "\n",
    "- Se valor-p < 0.05: rejeitamos a hipótese nula\n",
    "- Senão: falhamos em rejeitar a a hipótese nula\n",
    "\n",
    "O valor-p é menor que 0,05. Portanto, os resultados não ocorreram por variação aleatória e a hipótese nula é rejeitada \n",
    "\n",
    "Há um efeito significativo do tipo de página (variável independente) no tempo de acesso (variável dependente).\n",
    "\n",
    "\n"
   ]
  },
  {
   "cell_type": "markdown",
   "metadata": {},
   "source": [
    "## Teste-t Pairwise\n",
    "\n",
    "Outra abordagem para determinar quais grupos em pares são significativamente diferentes após a ANOVA é usar vários testes t seguidos por um dos seguintes testes para lidar com erros familiares: Bonferroni, Dunn-Sidàk, Holm, Hochberg, Benjamini-Hochberg ou Benjamini-Yekutieli. \n",
    "\n",
    "no nosso caso vamos utilizar o teste Bonferroni"
   ]
  },
  {
   "cell_type": "code",
   "execution_count": 8,
   "metadata": {},
   "outputs": [
    {
     "data": {
      "text/plain": [
       "Ttest_relResult(statistic=0.30836668293126873, pvalue=0.7594444576639443)"
      ]
     },
     "execution_count": 8,
     "metadata": {},
     "output_type": "execute_result"
    }
   ],
   "source": [
    "# Scipy.Stats\n",
    "\n",
    "# A funcao do Scipy nao aceita valores categoricos/strings, vamos converter para numericos\n",
    "dataset1['pagina_num'] = dataset1['pagina'].map({'contato':1, 'login': 2, 'principal': 3, 'produtos':4})\n",
    "\n",
    "stats.ttest_rel(dataset1['tempo'], dataset1['pagina_num'])"
   ]
  },
  {
   "cell_type": "code",
   "execution_count": 9,
   "metadata": {},
   "outputs": [
    {
     "data": {
      "text/html": [
       "<div>\n",
       "<style scoped>\n",
       "    .dataframe tbody tr th:only-of-type {\n",
       "        vertical-align: middle;\n",
       "    }\n",
       "\n",
       "    .dataframe tbody tr th {\n",
       "        vertical-align: top;\n",
       "    }\n",
       "\n",
       "    .dataframe thead th {\n",
       "        text-align: right;\n",
       "    }\n",
       "</style>\n",
       "<table border=\"1\" class=\"dataframe\">\n",
       "  <thead>\n",
       "    <tr style=\"text-align: right;\">\n",
       "      <th></th>\n",
       "      <th>Contrast</th>\n",
       "      <th>A</th>\n",
       "      <th>B</th>\n",
       "      <th>Paired</th>\n",
       "      <th>Parametric</th>\n",
       "      <th>T</th>\n",
       "      <th>dof</th>\n",
       "      <th>Tail</th>\n",
       "      <th>p-unc</th>\n",
       "      <th>p-corr</th>\n",
       "      <th>p-adjust</th>\n",
       "      <th>BF10</th>\n",
       "      <th>hedges</th>\n",
       "    </tr>\n",
       "  </thead>\n",
       "  <tbody>\n",
       "    <tr>\n",
       "      <th>0</th>\n",
       "      <td>pagina</td>\n",
       "      <td>principal</td>\n",
       "      <td>login</td>\n",
       "      <td>False</td>\n",
       "      <td>True</td>\n",
       "      <td>-1.105767</td>\n",
       "      <td>18.0</td>\n",
       "      <td>two-sided</td>\n",
       "      <td>0.283388</td>\n",
       "      <td>1.000000</td>\n",
       "      <td>bonf</td>\n",
       "      <td>0.608</td>\n",
       "      <td>-0.473619</td>\n",
       "    </tr>\n",
       "    <tr>\n",
       "      <th>1</th>\n",
       "      <td>pagina</td>\n",
       "      <td>principal</td>\n",
       "      <td>produtos</td>\n",
       "      <td>False</td>\n",
       "      <td>True</td>\n",
       "      <td>-3.432779</td>\n",
       "      <td>18.0</td>\n",
       "      <td>two-sided</td>\n",
       "      <td>0.002968</td>\n",
       "      <td>0.017808</td>\n",
       "      <td>bonf</td>\n",
       "      <td>12.844</td>\n",
       "      <td>-1.470318</td>\n",
       "    </tr>\n",
       "    <tr>\n",
       "      <th>2</th>\n",
       "      <td>pagina</td>\n",
       "      <td>principal</td>\n",
       "      <td>contato</td>\n",
       "      <td>False</td>\n",
       "      <td>True</td>\n",
       "      <td>0.424517</td>\n",
       "      <td>18.0</td>\n",
       "      <td>two-sided</td>\n",
       "      <td>0.676220</td>\n",
       "      <td>1.000000</td>\n",
       "      <td>bonf</td>\n",
       "      <td>0.424</td>\n",
       "      <td>0.181828</td>\n",
       "    </tr>\n",
       "    <tr>\n",
       "      <th>3</th>\n",
       "      <td>pagina</td>\n",
       "      <td>login</td>\n",
       "      <td>produtos</td>\n",
       "      <td>False</td>\n",
       "      <td>True</td>\n",
       "      <td>-1.396783</td>\n",
       "      <td>18.0</td>\n",
       "      <td>two-sided</td>\n",
       "      <td>0.179464</td>\n",
       "      <td>1.000000</td>\n",
       "      <td>bonf</td>\n",
       "      <td>0.777</td>\n",
       "      <td>-0.598266</td>\n",
       "    </tr>\n",
       "    <tr>\n",
       "      <th>4</th>\n",
       "      <td>pagina</td>\n",
       "      <td>login</td>\n",
       "      <td>contato</td>\n",
       "      <td>False</td>\n",
       "      <td>True</td>\n",
       "      <td>1.314064</td>\n",
       "      <td>18.0</td>\n",
       "      <td>two-sided</td>\n",
       "      <td>0.205326</td>\n",
       "      <td>1.000000</td>\n",
       "      <td>bonf</td>\n",
       "      <td>0.721</td>\n",
       "      <td>0.562836</td>\n",
       "    </tr>\n",
       "    <tr>\n",
       "      <th>5</th>\n",
       "      <td>pagina</td>\n",
       "      <td>produtos</td>\n",
       "      <td>contato</td>\n",
       "      <td>False</td>\n",
       "      <td>True</td>\n",
       "      <td>3.075985</td>\n",
       "      <td>18.0</td>\n",
       "      <td>two-sided</td>\n",
       "      <td>0.006512</td>\n",
       "      <td>0.039074</td>\n",
       "      <td>bonf</td>\n",
       "      <td>7.105</td>\n",
       "      <td>1.317497</td>\n",
       "    </tr>\n",
       "  </tbody>\n",
       "</table>\n",
       "</div>"
      ],
      "text/plain": [
       "  Contrast          A         B  Paired  Parametric         T   dof  \\\n",
       "0   pagina  principal     login   False        True -1.105767  18.0   \n",
       "1   pagina  principal  produtos   False        True -3.432779  18.0   \n",
       "2   pagina  principal   contato   False        True  0.424517  18.0   \n",
       "3   pagina      login  produtos   False        True -1.396783  18.0   \n",
       "4   pagina      login   contato   False        True  1.314064  18.0   \n",
       "5   pagina   produtos   contato   False        True  3.075985  18.0   \n",
       "\n",
       "        Tail     p-unc    p-corr p-adjust    BF10    hedges  \n",
       "0  two-sided  0.283388  1.000000     bonf   0.608 -0.473619  \n",
       "1  two-sided  0.002968  0.017808     bonf  12.844 -1.470318  \n",
       "2  two-sided  0.676220  1.000000     bonf   0.424  0.181828  \n",
       "3  two-sided  0.179464  1.000000     bonf   0.777 -0.598266  \n",
       "4  two-sided  0.205326  1.000000     bonf   0.721  0.562836  \n",
       "5  two-sided  0.006512  0.039074     bonf   7.105  1.317497  "
      ]
     },
     "metadata": {},
     "output_type": "display_data"
    },
    {
     "data": {
      "text/html": [
       "<div>\n",
       "<style scoped>\n",
       "    .dataframe tbody tr th:only-of-type {\n",
       "        vertical-align: middle;\n",
       "    }\n",
       "\n",
       "    .dataframe tbody tr th {\n",
       "        vertical-align: top;\n",
       "    }\n",
       "\n",
       "    .dataframe thead th {\n",
       "        text-align: right;\n",
       "    }\n",
       "</style>\n",
       "<table border=\"1\" class=\"dataframe\">\n",
       "  <thead>\n",
       "    <tr style=\"text-align: right;\">\n",
       "      <th></th>\n",
       "      <th>Contrast</th>\n",
       "      <th>A</th>\n",
       "      <th>B</th>\n",
       "      <th>Paired</th>\n",
       "      <th>Parametric</th>\n",
       "      <th>T</th>\n",
       "      <th>dof</th>\n",
       "      <th>Tail</th>\n",
       "      <th>p-unc</th>\n",
       "      <th>p-corr</th>\n",
       "      <th>p-adjust</th>\n",
       "      <th>BF10</th>\n",
       "      <th>hedges</th>\n",
       "    </tr>\n",
       "  </thead>\n",
       "  <tbody>\n",
       "    <tr>\n",
       "      <th>1</th>\n",
       "      <td>pagina</td>\n",
       "      <td>principal</td>\n",
       "      <td>produtos</td>\n",
       "      <td>False</td>\n",
       "      <td>True</td>\n",
       "      <td>-3.432779</td>\n",
       "      <td>18.0</td>\n",
       "      <td>two-sided</td>\n",
       "      <td>0.002968</td>\n",
       "      <td>0.017808</td>\n",
       "      <td>bonf</td>\n",
       "      <td>12.844</td>\n",
       "      <td>-1.470318</td>\n",
       "    </tr>\n",
       "    <tr>\n",
       "      <th>5</th>\n",
       "      <td>pagina</td>\n",
       "      <td>produtos</td>\n",
       "      <td>contato</td>\n",
       "      <td>False</td>\n",
       "      <td>True</td>\n",
       "      <td>3.075985</td>\n",
       "      <td>18.0</td>\n",
       "      <td>two-sided</td>\n",
       "      <td>0.006512</td>\n",
       "      <td>0.039074</td>\n",
       "      <td>bonf</td>\n",
       "      <td>7.105</td>\n",
       "      <td>1.317497</td>\n",
       "    </tr>\n",
       "  </tbody>\n",
       "</table>\n",
       "</div>"
      ],
      "text/plain": [
       "  Contrast          A         B  Paired  Parametric         T   dof  \\\n",
       "1   pagina  principal  produtos   False        True -3.432779  18.0   \n",
       "5   pagina   produtos   contato   False        True  3.075985  18.0   \n",
       "\n",
       "        Tail     p-unc    p-corr p-adjust    BF10    hedges  \n",
       "1  two-sided  0.002968  0.017808     bonf  12.844 -1.470318  \n",
       "5  two-sided  0.006512  0.039074     bonf   7.105  1.317497  "
      ]
     },
     "execution_count": 9,
     "metadata": {},
     "output_type": "execute_result"
    }
   ],
   "source": [
    "# Pingouin\n",
    "# https://pingouin-stats.org/generated/pingouin.pairwise_ttests.html\n",
    "\n",
    "resultados_ttp = pg.pairwise_ttests(dv='tempo', between='pagina', data=dataset1,\n",
    "                   padjust='bonf') # one-step Bonferroni correction\n",
    "display(resultados_ttp)\n",
    "\n",
    "# valor-p < 0.05\n",
    "resultados_ttp[resultados_ttp['p-corr'] < 0.05]"
   ]
  },
  {
   "cell_type": "markdown",
   "metadata": {},
   "source": [
    "### Conclusão:\n",
    "\n",
    "De acordo com os resultados do teste t, apenas os pares produtos-contato e produtos-principal possuem um valor-p (0.039 e 0.017) < 0.05. \n",
    "\n",
    "Todos os outros pares têm um valor-p >= 0,05. \n",
    "\n",
    "Isso significa que há diferença estatisticamente significativa nos tempos de acesso entre a página de produtos  e a página de contato e principal, mas não há diferença significativa nos tempos de acesso entre outros pares de páginas. \n",
    "\n",
    "Para descobrir qual é o melhor entre o a página de contato e a página de produtos, podemos dar uma olhada nas médias."
   ]
  },
  {
   "cell_type": "markdown",
   "metadata": {},
   "source": [
    "## Calculando as médias dentro dos grupos"
   ]
  },
  {
   "cell_type": "code",
   "execution_count": 10,
   "metadata": {},
   "outputs": [
    {
     "data": {
      "text/plain": [
       "pagina\n",
       "contato      2.388\n",
       "login        2.598\n",
       "principal    2.446\n",
       "produtos     2.775\n",
       "Name: tempo, dtype: float64"
      ]
     },
     "execution_count": 10,
     "metadata": {},
     "output_type": "execute_result"
    }
   ],
   "source": [
    "dataset1.groupby('pagina')['tempo'].mean()"
   ]
  },
  {
   "cell_type": "markdown",
   "metadata": {},
   "source": [
    "### Conclusão:\n",
    "\n",
    "O tempo médio de acesso à página de contato (2.388) é significativamente menor que o tempo médio de acesso da página de produtos (2.775). Portanto, a página de contato é melhor que a página de produtos em termos de tempo de acesso.\n",
    "\n",
    "Da mesma forma, a pagina principal (2.446) é significativamente melhor que a página de produtos.\n"
   ]
  },
  {
   "cell_type": "markdown",
   "metadata": {},
   "source": [
    "## Teste-t Unicaudal Esquerdo (tail = \"less\")\n",
    "\n",
    "teste unicaudal a esquerda"
   ]
  },
  {
   "cell_type": "code",
   "execution_count": 11,
   "metadata": {},
   "outputs": [
    {
     "data": {
      "text/html": [
       "<div>\n",
       "<style scoped>\n",
       "    .dataframe tbody tr th:only-of-type {\n",
       "        vertical-align: middle;\n",
       "    }\n",
       "\n",
       "    .dataframe tbody tr th {\n",
       "        vertical-align: top;\n",
       "    }\n",
       "\n",
       "    .dataframe thead th {\n",
       "        text-align: right;\n",
       "    }\n",
       "</style>\n",
       "<table border=\"1\" class=\"dataframe\">\n",
       "  <thead>\n",
       "    <tr style=\"text-align: right;\">\n",
       "      <th></th>\n",
       "      <th>T</th>\n",
       "      <th>dof</th>\n",
       "      <th>tail</th>\n",
       "      <th>p-val</th>\n",
       "      <th>CI95%</th>\n",
       "      <th>cohen-d</th>\n",
       "      <th>BF10</th>\n",
       "      <th>power</th>\n",
       "    </tr>\n",
       "  </thead>\n",
       "  <tbody>\n",
       "    <tr>\n",
       "      <th>T-test</th>\n",
       "      <td>-3.075985</td>\n",
       "      <td>18</td>\n",
       "      <td>less</td>\n",
       "      <td>0.003256</td>\n",
       "      <td>[-inf, -0.17]</td>\n",
       "      <td>1.375622</td>\n",
       "      <td>14.211</td>\n",
       "      <td>0.905309</td>\n",
       "    </tr>\n",
       "  </tbody>\n",
       "</table>\n",
       "</div>"
      ],
      "text/plain": [
       "               T  dof  tail     p-val          CI95%   cohen-d    BF10  \\\n",
       "T-test -3.075985   18  less  0.003256  [-inf, -0.17]  1.375622  14.211   \n",
       "\n",
       "           power  \n",
       "T-test  0.905309  "
      ]
     },
     "execution_count": 11,
     "metadata": {},
     "output_type": "execute_result"
    }
   ],
   "source": [
    "# Vamos extrair as observações para dois tipos de páginas\n",
    "contato = dataset1[dataset1['pagina'] == \"contato\"]\n",
    "produtos = dataset1[dataset1['pagina'] == \"produtos\"]\n",
    "\n",
    "# Teste-t Unicaudal Esquerdo\n",
    "resultado_testet = pg.ttest(x=contato['tempo'], y=produtos['tempo'], tail = \"less\")\n",
    "resultado_testet"
   ]
  },
  {
   "cell_type": "markdown",
   "metadata": {},
   "source": [
    "### Conclusão:\n",
    "\n",
    "Se valor-p < 0.05: rejeitamos a hipótese nula<br>\n",
    "Senão: falhamos em rejeitar a a hipótese nula\n",
    "\n",
    "Como valor-p é menor que 0,05, podemos rejeitar a hipótese nula do teste t unicaudal e concluir que a página de contato tem melhores tempos de acesso que a de produtos, na amostra 1.\n",
    " "
   ]
  },
  {
   "cell_type": "markdown",
   "metadata": {},
   "source": [
    "## Visualização"
   ]
  },
  {
   "cell_type": "code",
   "execution_count": 12,
   "metadata": {},
   "outputs": [
    {
     "data": {
      "text/plain": [
       "Text(0, 0.5, 'Tempo')"
      ]
     },
     "execution_count": 12,
     "metadata": {},
     "output_type": "execute_result"
    },
    {
     "data": {
      "image/png": "[encoded data removed]",
      "text/plain": [
       "<Figure size 1440x720 with 1 Axes>"
      ]
     },
     "metadata": {
      "needs_background": "light"
     },
     "output_type": "display_data"
    }
   ],
   "source": [
    "# Boxplot \n",
    "sns.boxplot(x = 'pagina', y = 'tempo', data = dataset1, orient='v', palette=\"Set3\")\n",
    "\n",
    "plt.title(\"Boxplots Para Cada Tipo de Página\")\n",
    "plt.xlabel(\"Página\")\n",
    "plt.ylabel(\"Tempo\")\n",
    "\n",
    "# O Boxplot confirma nossos testes e indica que a pagina de produtos é a mais lenta de todas."
   ]
  },
  {
   "cell_type": "markdown",
   "metadata": {},
   "source": [
    "# Amostra 2 - Impacto do Tipo de Página no Erro da Página e no Tempo de Execução"
   ]
  },
  {
   "cell_type": "markdown",
   "metadata": {},
   "source": [
    "## Import dos Dados "
   ]
  },
  {
   "cell_type": "code",
   "execution_count": 13,
   "metadata": {},
   "outputs": [
    {
     "data": {
      "text/html": [
       "<div>\n",
       "<style scoped>\n",
       "    .dataframe tbody tr th:only-of-type {\n",
       "        vertical-align: middle;\n",
       "    }\n",
       "\n",
       "    .dataframe tbody tr th {\n",
       "        vertical-align: top;\n",
       "    }\n",
       "\n",
       "    .dataframe thead th {\n",
       "        text-align: right;\n",
       "    }\n",
       "</style>\n",
       "<table border=\"1\" class=\"dataframe\">\n",
       "  <thead>\n",
       "    <tr style=\"text-align: right;\">\n",
       "      <th></th>\n",
       "      <th>usuario</th>\n",
       "      <th>tempo</th>\n",
       "      <th>erro</th>\n",
       "      <th>pagina</th>\n",
       "    </tr>\n",
       "  </thead>\n",
       "  <tbody>\n",
       "    <tr>\n",
       "      <th>0</th>\n",
       "      <td>1</td>\n",
       "      <td>2.58</td>\n",
       "      <td>2</td>\n",
       "      <td>principal</td>\n",
       "    </tr>\n",
       "    <tr>\n",
       "      <th>1</th>\n",
       "      <td>2</td>\n",
       "      <td>2.10</td>\n",
       "      <td>5</td>\n",
       "      <td>principal</td>\n",
       "    </tr>\n",
       "    <tr>\n",
       "      <th>2</th>\n",
       "      <td>3</td>\n",
       "      <td>3.05</td>\n",
       "      <td>6</td>\n",
       "      <td>principal</td>\n",
       "    </tr>\n",
       "    <tr>\n",
       "      <th>3</th>\n",
       "      <td>4</td>\n",
       "      <td>2.61</td>\n",
       "      <td>6</td>\n",
       "      <td>principal</td>\n",
       "    </tr>\n",
       "    <tr>\n",
       "      <th>4</th>\n",
       "      <td>5</td>\n",
       "      <td>2.36</td>\n",
       "      <td>5</td>\n",
       "      <td>principal</td>\n",
       "    </tr>\n",
       "  </tbody>\n",
       "</table>\n",
       "</div>"
      ],
      "text/plain": [
       "   usuario  tempo  erro     pagina\n",
       "0        1   2.58     2  principal\n",
       "1        2   2.10     5  principal\n",
       "2        3   3.05     6  principal\n",
       "3        4   2.61     6  principal\n",
       "4        5   2.36     5  principal"
      ]
     },
     "execution_count": 13,
     "metadata": {},
     "output_type": "execute_result"
    }
   ],
   "source": [
    "# Carregando o dataset2 \n",
    "dataset2 = read_csv(\"dataset2.csv\")\n",
    "\n",
    "dataset2.head()"
   ]
  },
  {
   "cell_type": "markdown",
   "metadata": {},
   "source": [
    "## Análise de Variância Multivariada - MANOVA\n",
    "\n",
    "Utilizada para testar a significancia de diferentes grupos, utilizando mais de 2 variaveis dependentes (geralmente continuas)"
   ]
  },
  {
   "cell_type": "code",
   "execution_count": 14,
   "metadata": {},
   "outputs": [
    {
     "name": "stdout",
     "output_type": "stream",
     "text": [
      "                  Multivariate linear model\n",
      "==============================================================\n",
      "                                                              \n",
      "--------------------------------------------------------------\n",
      "       Intercept         Value  Num DF  Den DF F Value  Pr > F\n",
      "--------------------------------------------------------------\n",
      "          Wilks' lambda  0.0387 2.0000 35.0000 434.7908 0.0000\n",
      "         Pillai's trace  0.9613 2.0000 35.0000 434.7908 0.0000\n",
      " Hotelling-Lawley trace 24.8452 2.0000 35.0000 434.7908 0.0000\n",
      "    Roy's greatest root 24.8452 2.0000 35.0000 434.7908 0.0000\n",
      "--------------------------------------------------------------\n",
      "                                                              \n",
      "--------------------------------------------------------------\n",
      "           pagina         Value  Num DF  Den DF F Value Pr > F\n",
      "--------------------------------------------------------------\n",
      "            Wilks' lambda 0.4291 6.0000 70.0000  6.1428 0.0000\n",
      "           Pillai's trace 0.6502 6.0000 72.0000  5.7804 0.0001\n",
      "   Hotelling-Lawley trace 1.1454 6.0000 44.9320  6.5931 0.0000\n",
      "      Roy's greatest root 0.9510 3.0000 36.0000 11.4119 0.0000\n",
      "==============================================================\n",
      "\n"
     ]
    }
   ],
   "source": [
    "# StatsModels\n",
    "\n",
    "dataset2['pagina_num'] = dataset1['pagina'].map({'contato':1, 'login': 2, 'principal': 3, 'produtos':4})\n",
    "\n",
    "resultado_manova = MANOVA.from_formula('tempo + erro ~  pagina', data=dataset2)\n",
    "\n",
    "print(resultado_manova.mv_test())"
   ]
  },
  {
   "cell_type": "markdown",
   "metadata": {},
   "source": [
    "O p-value do Intercepts está ok, temos valores abaixo do que 0.05.\n",
    "\n",
    "Para essa análise vou utilizar o Pillai's trace como teste estatístico.\n",
    "\n",
    "Esse teste é considerado o mais poderoso e robusto para uso geral (apesar do Wilks' lambda ser mais popular na literatura), especialmente para desvios de premissas. \n",
    "\n",
    "Por exemplo, se a suposição de MANOVA de homogeneidade de covariância da variância for violada, o teste Pillai's trace é a melhor opção. Também é uma boa quando você tem amostras/datasets pequenos.\n"
   ]
  },
  {
   "cell_type": "code",
   "execution_count": 15,
   "metadata": {},
   "outputs": [
    {
     "data": {
      "text/plain": [
       "5.9177262102757005e-05"
      ]
     },
     "execution_count": 15,
     "metadata": {},
     "output_type": "execute_result"
    }
   ],
   "source": [
    "# valor-p < 0.05\n",
    "resultado_manova.mv_test().results['pagina']['stat'].values[1, 4]"
   ]
  },
  {
   "cell_type": "markdown",
   "metadata": {},
   "source": [
    "### Conclusão:\n",
    "\n",
    "Se valor-p < 0.05: rejeitamos a hipótese nula<br>\n",
    "Senão: falhamos em rejeitar a a hipótese nula\n",
    "\n",
    "O valor-p é menor que 0,05. Portanto, os resultados não ocorreram por variação aleatória e a hipótese nula é rejeitada. \n",
    "\n",
    "Há um efeito significativo do tipo de página no tempo de acesso e erro na página.\n",
    "\n"
   ]
  },
  {
   "cell_type": "markdown",
   "metadata": {},
   "source": [
    "## Aplicando ANOVA ao Resultado da MANOVA"
   ]
  },
  {
   "cell_type": "code",
   "execution_count": 16,
   "metadata": {},
   "outputs": [
    {
     "name": "stdout",
     "output_type": "stream",
     "text": [
      "tempo por pagina\n"
     ]
    },
    {
     "data": {
      "text/html": [
       "<div>\n",
       "<style scoped>\n",
       "    .dataframe tbody tr th:only-of-type {\n",
       "        vertical-align: middle;\n",
       "    }\n",
       "\n",
       "    .dataframe tbody tr th {\n",
       "        vertical-align: top;\n",
       "    }\n",
       "\n",
       "    .dataframe thead th {\n",
       "        text-align: right;\n",
       "    }\n",
       "</style>\n",
       "<table border=\"1\" class=\"dataframe\">\n",
       "  <thead>\n",
       "    <tr style=\"text-align: right;\">\n",
       "      <th></th>\n",
       "      <th>Source</th>\n",
       "      <th>SS</th>\n",
       "      <th>DF</th>\n",
       "      <th>MS</th>\n",
       "      <th>F</th>\n",
       "      <th>p-unc</th>\n",
       "      <th>np2</th>\n",
       "    </tr>\n",
       "  </thead>\n",
       "  <tbody>\n",
       "    <tr>\n",
       "      <th>0</th>\n",
       "      <td>pagina</td>\n",
       "      <td>0.70187</td>\n",
       "      <td>3</td>\n",
       "      <td>0.233957</td>\n",
       "      <td>2.661589</td>\n",
       "      <td>0.062674</td>\n",
       "      <td>0.181535</td>\n",
       "    </tr>\n",
       "    <tr>\n",
       "      <th>1</th>\n",
       "      <td>Within</td>\n",
       "      <td>3.16444</td>\n",
       "      <td>36</td>\n",
       "      <td>0.087901</td>\n",
       "      <td>NaN</td>\n",
       "      <td>NaN</td>\n",
       "      <td>NaN</td>\n",
       "    </tr>\n",
       "  </tbody>\n",
       "</table>\n",
       "</div>"
      ],
      "text/plain": [
       "   Source       SS  DF        MS         F     p-unc       np2\n",
       "0  pagina  0.70187   3  0.233957  2.661589  0.062674  0.181535\n",
       "1  Within  3.16444  36  0.087901       NaN       NaN       NaN"
      ]
     },
     "metadata": {},
     "output_type": "display_data"
    },
    {
     "name": "stdout",
     "output_type": "stream",
     "text": [
      "erro por pagina\n"
     ]
    },
    {
     "data": {
      "text/html": [
       "<div>\n",
       "<style scoped>\n",
       "    .dataframe tbody tr th:only-of-type {\n",
       "        vertical-align: middle;\n",
       "    }\n",
       "\n",
       "    .dataframe tbody tr th {\n",
       "        vertical-align: top;\n",
       "    }\n",
       "\n",
       "    .dataframe thead th {\n",
       "        text-align: right;\n",
       "    }\n",
       "</style>\n",
       "<table border=\"1\" class=\"dataframe\">\n",
       "  <thead>\n",
       "    <tr style=\"text-align: right;\">\n",
       "      <th></th>\n",
       "      <th>Source</th>\n",
       "      <th>SS</th>\n",
       "      <th>DF</th>\n",
       "      <th>MS</th>\n",
       "      <th>F</th>\n",
       "      <th>p-unc</th>\n",
       "      <th>np2</th>\n",
       "    </tr>\n",
       "  </thead>\n",
       "  <tbody>\n",
       "    <tr>\n",
       "      <th>0</th>\n",
       "      <td>pagina</td>\n",
       "      <td>1644.075</td>\n",
       "      <td>3</td>\n",
       "      <td>548.025</td>\n",
       "      <td>11.399376</td>\n",
       "      <td>0.000021</td>\n",
       "      <td>0.487166</td>\n",
       "    </tr>\n",
       "    <tr>\n",
       "      <th>1</th>\n",
       "      <td>Within</td>\n",
       "      <td>1730.700</td>\n",
       "      <td>36</td>\n",
       "      <td>48.075</td>\n",
       "      <td>NaN</td>\n",
       "      <td>NaN</td>\n",
       "      <td>NaN</td>\n",
       "    </tr>\n",
       "  </tbody>\n",
       "</table>\n",
       "</div>"
      ],
      "text/plain": [
       "   Source        SS  DF       MS          F     p-unc       np2\n",
       "0  pagina  1644.075   3  548.025  11.399376  0.000021  0.487166\n",
       "1  Within  1730.700  36   48.075        NaN       NaN       NaN"
      ]
     },
     "metadata": {},
     "output_type": "display_data"
    }
   ],
   "source": [
    "# Vamos descobrir em qual variável dependente (tempo ou erro) a variável independente (pagina) tem efeito\n",
    "# significante.\n",
    "\n",
    "# tempo por pagina\n",
    "resultado_anova1 = pg.anova(dv='tempo', between='pagina', data=dataset2, detailed=True)\n",
    "print('tempo por pagina')\n",
    "display(resultado_anova1)\n",
    "\n",
    "# erro por pagina\n",
    "resultado_anova2 = pg.anova(dv='erro', between='pagina', data=dataset2, detailed=True)\n",
    "print('erro por pagina')\n",
    "display(resultado_anova2)"
   ]
  },
  {
   "cell_type": "code",
   "execution_count": 17,
   "metadata": {},
   "outputs": [
    {
     "data": {
      "text/plain": [
       "0.06267377618983135"
      ]
     },
     "execution_count": 17,
     "metadata": {},
     "output_type": "execute_result"
    }
   ],
   "source": [
    "# Análise do efeito na variável tempo\n",
    "resultado_anova1.loc[0, 'p-unc']"
   ]
  },
  {
   "cell_type": "markdown",
   "metadata": {},
   "source": [
    "O valor-p da variável tempo não é menor que 0,05. \n",
    "\n",
    "Portanto, o tipo de pagina <b>não</b> afeta significativamente o tempo na amostra 2."
   ]
  },
  {
   "cell_type": "code",
   "execution_count": 18,
   "metadata": {},
   "outputs": [
    {
     "data": {
      "text/plain": [
       "2.1085251764900467e-05"
      ]
     },
     "execution_count": 18,
     "metadata": {},
     "output_type": "execute_result"
    }
   ],
   "source": [
    "# Análise do efeito na variável erro\n",
    "resultado_anova2.loc[0, 'p-unc']"
   ]
  },
  {
   "cell_type": "markdown",
   "metadata": {},
   "source": [
    "O valor-p da variável erro é menor que 0,05. \n",
    "\n",
    "Portanto, o tipo de pagina <b>tem</b> efeito significativo no número de erros."
   ]
  },
  {
   "cell_type": "markdown",
   "metadata": {},
   "source": [
    "## Teste-t Paiwise Tempo/Pagina"
   ]
  },
  {
   "cell_type": "code",
   "execution_count": 19,
   "metadata": {},
   "outputs": [
    {
     "data": {
      "text/html": [
       "<div>\n",
       "<style scoped>\n",
       "    .dataframe tbody tr th:only-of-type {\n",
       "        vertical-align: middle;\n",
       "    }\n",
       "\n",
       "    .dataframe tbody tr th {\n",
       "        vertical-align: top;\n",
       "    }\n",
       "\n",
       "    .dataframe thead th {\n",
       "        text-align: right;\n",
       "    }\n",
       "</style>\n",
       "<table border=\"1\" class=\"dataframe\">\n",
       "  <thead>\n",
       "    <tr style=\"text-align: right;\">\n",
       "      <th></th>\n",
       "      <th>Contrast</th>\n",
       "      <th>A</th>\n",
       "      <th>B</th>\n",
       "      <th>Paired</th>\n",
       "      <th>Parametric</th>\n",
       "      <th>T</th>\n",
       "      <th>dof</th>\n",
       "      <th>Tail</th>\n",
       "      <th>p-unc</th>\n",
       "      <th>p-corr</th>\n",
       "      <th>p-adjust</th>\n",
       "      <th>BF10</th>\n",
       "      <th>hedges</th>\n",
       "    </tr>\n",
       "  </thead>\n",
       "  <tbody>\n",
       "    <tr>\n",
       "      <th>0</th>\n",
       "      <td>pagina</td>\n",
       "      <td>principal</td>\n",
       "      <td>login</td>\n",
       "      <td>True</td>\n",
       "      <td>True</td>\n",
       "      <td>1.999091</td>\n",
       "      <td>9.0</td>\n",
       "      <td>two-sided</td>\n",
       "      <td>0.076665</td>\n",
       "      <td>0.459991</td>\n",
       "      <td>bonf</td>\n",
       "      <td>1.281</td>\n",
       "      <td>0.323327</td>\n",
       "    </tr>\n",
       "    <tr>\n",
       "      <th>1</th>\n",
       "      <td>pagina</td>\n",
       "      <td>principal</td>\n",
       "      <td>produtos</td>\n",
       "      <td>True</td>\n",
       "      <td>True</td>\n",
       "      <td>-5.389786</td>\n",
       "      <td>9.0</td>\n",
       "      <td>two-sided</td>\n",
       "      <td>0.000439</td>\n",
       "      <td>0.002633</td>\n",
       "      <td>bonf</td>\n",
       "      <td>81.469</td>\n",
       "      <td>-0.996037</td>\n",
       "    </tr>\n",
       "    <tr>\n",
       "      <th>2</th>\n",
       "      <td>pagina</td>\n",
       "      <td>principal</td>\n",
       "      <td>contato</td>\n",
       "      <td>True</td>\n",
       "      <td>True</td>\n",
       "      <td>1.158894</td>\n",
       "      <td>9.0</td>\n",
       "      <td>two-sided</td>\n",
       "      <td>0.276323</td>\n",
       "      <td>1.000000</td>\n",
       "      <td>bonf</td>\n",
       "      <td>0.53</td>\n",
       "      <td>0.285334</td>\n",
       "    </tr>\n",
       "    <tr>\n",
       "      <th>3</th>\n",
       "      <td>pagina</td>\n",
       "      <td>login</td>\n",
       "      <td>produtos</td>\n",
       "      <td>True</td>\n",
       "      <td>True</td>\n",
       "      <td>-4.426186</td>\n",
       "      <td>9.0</td>\n",
       "      <td>two-sided</td>\n",
       "      <td>0.001656</td>\n",
       "      <td>0.009938</td>\n",
       "      <td>bonf</td>\n",
       "      <td>26.868</td>\n",
       "      <td>-1.093583</td>\n",
       "    </tr>\n",
       "    <tr>\n",
       "      <th>4</th>\n",
       "      <td>pagina</td>\n",
       "      <td>login</td>\n",
       "      <td>contato</td>\n",
       "      <td>True</td>\n",
       "      <td>True</td>\n",
       "      <td>-0.199924</td>\n",
       "      <td>9.0</td>\n",
       "      <td>two-sided</td>\n",
       "      <td>0.845985</td>\n",
       "      <td>1.000000</td>\n",
       "      <td>bonf</td>\n",
       "      <td>0.314</td>\n",
       "      <td>-0.042735</td>\n",
       "    </tr>\n",
       "    <tr>\n",
       "      <th>5</th>\n",
       "      <td>pagina</td>\n",
       "      <td>produtos</td>\n",
       "      <td>contato</td>\n",
       "      <td>True</td>\n",
       "      <td>True</td>\n",
       "      <td>5.279392</td>\n",
       "      <td>9.0</td>\n",
       "      <td>two-sided</td>\n",
       "      <td>0.000508</td>\n",
       "      <td>0.003045</td>\n",
       "      <td>bonf</td>\n",
       "      <td>72.091</td>\n",
       "      <td>1.089160</td>\n",
       "    </tr>\n",
       "  </tbody>\n",
       "</table>\n",
       "</div>"
      ],
      "text/plain": [
       "  Contrast          A         B  Paired  Parametric         T  dof       Tail  \\\n",
       "0   pagina  principal     login    True        True  1.999091  9.0  two-sided   \n",
       "1   pagina  principal  produtos    True        True -5.389786  9.0  two-sided   \n",
       "2   pagina  principal   contato    True        True  1.158894  9.0  two-sided   \n",
       "3   pagina      login  produtos    True        True -4.426186  9.0  two-sided   \n",
       "4   pagina      login   contato    True        True -0.199924  9.0  two-sided   \n",
       "5   pagina   produtos   contato    True        True  5.279392  9.0  two-sided   \n",
       "\n",
       "      p-unc    p-corr p-adjust    BF10    hedges  \n",
       "0  0.076665  0.459991     bonf   1.281  0.323327  \n",
       "1  0.000439  0.002633     bonf  81.469 -0.996037  \n",
       "2  0.276323  1.000000     bonf    0.53  0.285334  \n",
       "3  0.001656  0.009938     bonf  26.868 -1.093583  \n",
       "4  0.845985  1.000000     bonf   0.314 -0.042735  \n",
       "5  0.000508  0.003045     bonf  72.091  1.089160  "
      ]
     },
     "metadata": {},
     "output_type": "display_data"
    },
    {
     "data": {
      "text/html": [
       "<div>\n",
       "<style scoped>\n",
       "    .dataframe tbody tr th:only-of-type {\n",
       "        vertical-align: middle;\n",
       "    }\n",
       "\n",
       "    .dataframe tbody tr th {\n",
       "        vertical-align: top;\n",
       "    }\n",
       "\n",
       "    .dataframe thead th {\n",
       "        text-align: right;\n",
       "    }\n",
       "</style>\n",
       "<table border=\"1\" class=\"dataframe\">\n",
       "  <thead>\n",
       "    <tr style=\"text-align: right;\">\n",
       "      <th></th>\n",
       "      <th>Contrast</th>\n",
       "      <th>A</th>\n",
       "      <th>B</th>\n",
       "      <th>Paired</th>\n",
       "      <th>Parametric</th>\n",
       "      <th>T</th>\n",
       "      <th>dof</th>\n",
       "      <th>Tail</th>\n",
       "      <th>p-unc</th>\n",
       "      <th>p-corr</th>\n",
       "      <th>p-adjust</th>\n",
       "      <th>BF10</th>\n",
       "      <th>hedges</th>\n",
       "    </tr>\n",
       "  </thead>\n",
       "  <tbody>\n",
       "    <tr>\n",
       "      <th>1</th>\n",
       "      <td>pagina</td>\n",
       "      <td>principal</td>\n",
       "      <td>produtos</td>\n",
       "      <td>True</td>\n",
       "      <td>True</td>\n",
       "      <td>-5.389786</td>\n",
       "      <td>9.0</td>\n",
       "      <td>two-sided</td>\n",
       "      <td>0.000439</td>\n",
       "      <td>0.002633</td>\n",
       "      <td>bonf</td>\n",
       "      <td>81.469</td>\n",
       "      <td>-0.996037</td>\n",
       "    </tr>\n",
       "    <tr>\n",
       "      <th>3</th>\n",
       "      <td>pagina</td>\n",
       "      <td>login</td>\n",
       "      <td>produtos</td>\n",
       "      <td>True</td>\n",
       "      <td>True</td>\n",
       "      <td>-4.426186</td>\n",
       "      <td>9.0</td>\n",
       "      <td>two-sided</td>\n",
       "      <td>0.001656</td>\n",
       "      <td>0.009938</td>\n",
       "      <td>bonf</td>\n",
       "      <td>26.868</td>\n",
       "      <td>-1.093583</td>\n",
       "    </tr>\n",
       "    <tr>\n",
       "      <th>5</th>\n",
       "      <td>pagina</td>\n",
       "      <td>produtos</td>\n",
       "      <td>contato</td>\n",
       "      <td>True</td>\n",
       "      <td>True</td>\n",
       "      <td>5.279392</td>\n",
       "      <td>9.0</td>\n",
       "      <td>two-sided</td>\n",
       "      <td>0.000508</td>\n",
       "      <td>0.003045</td>\n",
       "      <td>bonf</td>\n",
       "      <td>72.091</td>\n",
       "      <td>1.089160</td>\n",
       "    </tr>\n",
       "  </tbody>\n",
       "</table>\n",
       "</div>"
      ],
      "text/plain": [
       "  Contrast          A         B  Paired  Parametric         T  dof       Tail  \\\n",
       "1   pagina  principal  produtos    True        True -5.389786  9.0  two-sided   \n",
       "3   pagina      login  produtos    True        True -4.426186  9.0  two-sided   \n",
       "5   pagina   produtos   contato    True        True  5.279392  9.0  two-sided   \n",
       "\n",
       "      p-unc    p-corr p-adjust    BF10    hedges  \n",
       "1  0.000439  0.002633     bonf  81.469 -0.996037  \n",
       "3  0.001656  0.009938     bonf  26.868 -1.093583  \n",
       "5  0.000508  0.003045     bonf  72.091  1.089160  "
      ]
     },
     "execution_count": 19,
     "metadata": {},
     "output_type": "execute_result"
    }
   ],
   "source": [
    "t_test_results = pg.pairwise_ttests(dv='tempo', within='pagina', data=dataset2,\n",
    "                   padjust='bonf') # one-step Bonferroni correction\n",
    "\n",
    "display(t_test_results)\n",
    "\n",
    "# valor-p < 0.05\n",
    "t_test_results[t_test_results['p-corr'] < 0.05]"
   ]
  },
  {
   "cell_type": "markdown",
   "metadata": {},
   "source": [
    "A pagina de produtos tem relação significativa com todas as outras paginas em relação ao tempo. \n",
    "\n",
    "Vamos testar as combinações com um teste unicaudal superior (direito) e qual das paginas é melhor."
   ]
  },
  {
   "cell_type": "markdown",
   "metadata": {},
   "source": [
    "## Teste-t Unicaudal Esquerdo (tail = \"greater\")"
   ]
  },
  {
   "cell_type": "code",
   "execution_count": 20,
   "metadata": {},
   "outputs": [
    {
     "data": {
      "text/html": [
       "<div>\n",
       "<style scoped>\n",
       "    .dataframe tbody tr th:only-of-type {\n",
       "        vertical-align: middle;\n",
       "    }\n",
       "\n",
       "    .dataframe tbody tr th {\n",
       "        vertical-align: top;\n",
       "    }\n",
       "\n",
       "    .dataframe thead th {\n",
       "        text-align: right;\n",
       "    }\n",
       "</style>\n",
       "<table border=\"1\" class=\"dataframe\">\n",
       "  <thead>\n",
       "    <tr style=\"text-align: right;\">\n",
       "      <th></th>\n",
       "      <th>T</th>\n",
       "      <th>dof</th>\n",
       "      <th>tail</th>\n",
       "      <th>p-val</th>\n",
       "      <th>CI95%</th>\n",
       "      <th>cohen-d</th>\n",
       "      <th>BF10</th>\n",
       "      <th>power</th>\n",
       "    </tr>\n",
       "  </thead>\n",
       "  <tbody>\n",
       "    <tr>\n",
       "      <th>T-test</th>\n",
       "      <td>5.279392</td>\n",
       "      <td>9</td>\n",
       "      <td>greater</td>\n",
       "      <td>0.000254</td>\n",
       "      <td>[0.21, inf]</td>\n",
       "      <td>1.137211</td>\n",
       "      <td>144.183</td>\n",
       "      <td>0.951926</td>\n",
       "    </tr>\n",
       "  </tbody>\n",
       "</table>\n",
       "</div>"
      ],
      "text/plain": [
       "               T  dof     tail     p-val        CI95%   cohen-d     BF10  \\\n",
       "T-test  5.279392    9  greater  0.000254  [0.21, inf]  1.137211  144.183   \n",
       "\n",
       "           power  \n",
       "T-test  0.951926  "
      ]
     },
     "metadata": {},
     "output_type": "display_data"
    },
    {
     "name": "stdout",
     "output_type": "stream",
     "text": [
      "Valor-p produtos-contato: 0.00025375602581862957\n"
     ]
    }
   ],
   "source": [
    "# Teste-t Unicaudal Direito (tail = \"greater\") entre as paginas produtos e contato\n",
    "\n",
    "# Vamos extrair as observações para dois tipos de páginas\n",
    "contato = dataset2[dataset2['pagina'] == \"contato\"]\n",
    "produtos = dataset2[dataset2['pagina'] == \"produtos\"]\n",
    "\n",
    "# Teste-t Unicaudal Esquerdo\n",
    "resultado_testet1 = pg.ttest(x=produtos['tempo'], y=contato['tempo'], tail = \"greater\", paired=True)\n",
    "\n",
    "display(resultado_testet1)\n",
    "\n",
    "print(\"Valor-p produtos-contato: {}\".format(resultado_testet1['p-val'][0]))"
   ]
  },
  {
   "cell_type": "code",
   "execution_count": 21,
   "metadata": {},
   "outputs": [
    {
     "data": {
      "text/html": [
       "<div>\n",
       "<style scoped>\n",
       "    .dataframe tbody tr th:only-of-type {\n",
       "        vertical-align: middle;\n",
       "    }\n",
       "\n",
       "    .dataframe tbody tr th {\n",
       "        vertical-align: top;\n",
       "    }\n",
       "\n",
       "    .dataframe thead th {\n",
       "        text-align: right;\n",
       "    }\n",
       "</style>\n",
       "<table border=\"1\" class=\"dataframe\">\n",
       "  <thead>\n",
       "    <tr style=\"text-align: right;\">\n",
       "      <th></th>\n",
       "      <th>T</th>\n",
       "      <th>dof</th>\n",
       "      <th>tail</th>\n",
       "      <th>p-val</th>\n",
       "      <th>CI95%</th>\n",
       "      <th>cohen-d</th>\n",
       "      <th>BF10</th>\n",
       "      <th>power</th>\n",
       "    </tr>\n",
       "  </thead>\n",
       "  <tbody>\n",
       "    <tr>\n",
       "      <th>T-test</th>\n",
       "      <td>4.426186</td>\n",
       "      <td>9</td>\n",
       "      <td>greater</td>\n",
       "      <td>0.000828</td>\n",
       "      <td>[0.19, inf]</td>\n",
       "      <td>1.141829</td>\n",
       "      <td>53.736</td>\n",
       "      <td>0.953244</td>\n",
       "    </tr>\n",
       "  </tbody>\n",
       "</table>\n",
       "</div>"
      ],
      "text/plain": [
       "               T  dof     tail     p-val        CI95%   cohen-d    BF10  \\\n",
       "T-test  4.426186    9  greater  0.000828  [0.19, inf]  1.141829  53.736   \n",
       "\n",
       "           power  \n",
       "T-test  0.953244  "
      ]
     },
     "metadata": {},
     "output_type": "display_data"
    },
    {
     "name": "stdout",
     "output_type": "stream",
     "text": [
      "Valor-p produtos-login: 0.0008281388874318565\n"
     ]
    }
   ],
   "source": [
    "# Teste-t Unicaudal Direito (tail = \"greater\") entre as paginas produtos e login\n",
    "\n",
    "# Vamos extrair as observações para dois tipos de páginas\n",
    "login = dataset2[dataset2['pagina'] == \"login\"]\n",
    "produtos = dataset2[dataset2['pagina'] == \"produtos\"]\n",
    "\n",
    "# Teste-t Unicaudal Esquerdo\n",
    "resultado_testet2 = pg.ttest(x=produtos['tempo'], y=login['tempo'], tail = \"greater\", paired=True)\n",
    "\n",
    "display(resultado_testet2)\n",
    "\n",
    "\n",
    "print(\"Valor-p produtos-login: {}\".format(resultado_testet2['p-val'][0]))"
   ]
  },
  {
   "cell_type": "code",
   "execution_count": 22,
   "metadata": {},
   "outputs": [
    {
     "data": {
      "text/html": [
       "<div>\n",
       "<style scoped>\n",
       "    .dataframe tbody tr th:only-of-type {\n",
       "        vertical-align: middle;\n",
       "    }\n",
       "\n",
       "    .dataframe tbody tr th {\n",
       "        vertical-align: top;\n",
       "    }\n",
       "\n",
       "    .dataframe thead th {\n",
       "        text-align: right;\n",
       "    }\n",
       "</style>\n",
       "<table border=\"1\" class=\"dataframe\">\n",
       "  <thead>\n",
       "    <tr style=\"text-align: right;\">\n",
       "      <th></th>\n",
       "      <th>T</th>\n",
       "      <th>dof</th>\n",
       "      <th>tail</th>\n",
       "      <th>p-val</th>\n",
       "      <th>CI95%</th>\n",
       "      <th>cohen-d</th>\n",
       "      <th>BF10</th>\n",
       "      <th>power</th>\n",
       "    </tr>\n",
       "  </thead>\n",
       "  <tbody>\n",
       "    <tr>\n",
       "      <th>T-test</th>\n",
       "      <td>5.389786</td>\n",
       "      <td>9</td>\n",
       "      <td>greater</td>\n",
       "      <td>0.000219</td>\n",
       "      <td>[0.15, inf]</td>\n",
       "      <td>1.03998</td>\n",
       "      <td>162.939</td>\n",
       "      <td>0.91668</td>\n",
       "    </tr>\n",
       "  </tbody>\n",
       "</table>\n",
       "</div>"
      ],
      "text/plain": [
       "               T  dof     tail     p-val        CI95%  cohen-d     BF10  \\\n",
       "T-test  5.389786    9  greater  0.000219  [0.15, inf]  1.03998  162.939   \n",
       "\n",
       "          power  \n",
       "T-test  0.91668  "
      ]
     },
     "metadata": {},
     "output_type": "display_data"
    },
    {
     "name": "stdout",
     "output_type": "stream",
     "text": [
      "Valor-p produtos-principal: 0.00021941636247249747\n"
     ]
    }
   ],
   "source": [
    "# Teste-t Unicaudal Direito (tail = \"greater\") entre as paginas produtos e principal\n",
    "\n",
    "# Vamos extrair as observações para dois tipos de páginas\n",
    "principal = dataset2[dataset2['pagina'] == \"principal\"]\n",
    "produtos = dataset2[dataset2['pagina'] == \"produtos\"]\n",
    "\n",
    "# Teste-t Unicaudal Esquerdo\n",
    "resultado_testet3 = pg.ttest(x=produtos['tempo'], y=principal['tempo'], tail = \"greater\", paired=True)\n",
    "\n",
    "display(resultado_testet3)\n",
    "\n",
    "print(\"Valor-p produtos-principal: {}\".format(resultado_testet3['p-val'][0]))"
   ]
  },
  {
   "cell_type": "markdown",
   "metadata": {},
   "source": [
    "Como valor-p é menor que 0,05 em todos os casos, podemos rejeitar a hipótese nula do teste t unicaudal e concluir  que todas as outras páginas tem melhores tempos de acesso que a de produtos."
   ]
  },
  {
   "cell_type": "markdown",
   "metadata": {},
   "source": [
    "## Teste-t Paiwise Erro/Pagina"
   ]
  },
  {
   "cell_type": "code",
   "execution_count": 23,
   "metadata": {},
   "outputs": [
    {
     "data": {
      "text/html": [
       "<div>\n",
       "<style scoped>\n",
       "    .dataframe tbody tr th:only-of-type {\n",
       "        vertical-align: middle;\n",
       "    }\n",
       "\n",
       "    .dataframe tbody tr th {\n",
       "        vertical-align: top;\n",
       "    }\n",
       "\n",
       "    .dataframe thead th {\n",
       "        text-align: right;\n",
       "    }\n",
       "</style>\n",
       "<table border=\"1\" class=\"dataframe\">\n",
       "  <thead>\n",
       "    <tr style=\"text-align: right;\">\n",
       "      <th></th>\n",
       "      <th>Contrast</th>\n",
       "      <th>A</th>\n",
       "      <th>B</th>\n",
       "      <th>Paired</th>\n",
       "      <th>Parametric</th>\n",
       "      <th>T</th>\n",
       "      <th>dof</th>\n",
       "      <th>Tail</th>\n",
       "      <th>p-unc</th>\n",
       "      <th>p-corr</th>\n",
       "      <th>p-adjust</th>\n",
       "      <th>BF10</th>\n",
       "      <th>hedges</th>\n",
       "    </tr>\n",
       "  </thead>\n",
       "  <tbody>\n",
       "    <tr>\n",
       "      <th>0</th>\n",
       "      <td>pagina</td>\n",
       "      <td>principal</td>\n",
       "      <td>login</td>\n",
       "      <td>True</td>\n",
       "      <td>True</td>\n",
       "      <td>-5.885047</td>\n",
       "      <td>9.0</td>\n",
       "      <td>two-sided</td>\n",
       "      <td>0.000233</td>\n",
       "      <td>0.001400</td>\n",
       "      <td>bonf</td>\n",
       "      <td>138.871</td>\n",
       "      <td>-2.300862</td>\n",
       "    </tr>\n",
       "    <tr>\n",
       "      <th>1</th>\n",
       "      <td>pagina</td>\n",
       "      <td>principal</td>\n",
       "      <td>produtos</td>\n",
       "      <td>True</td>\n",
       "      <td>True</td>\n",
       "      <td>-3.033858</td>\n",
       "      <td>9.0</td>\n",
       "      <td>two-sided</td>\n",
       "      <td>0.014158</td>\n",
       "      <td>0.084948</td>\n",
       "      <td>bonf</td>\n",
       "      <td>4.698</td>\n",
       "      <td>-1.437831</td>\n",
       "    </tr>\n",
       "    <tr>\n",
       "      <th>2</th>\n",
       "      <td>pagina</td>\n",
       "      <td>principal</td>\n",
       "      <td>contato</td>\n",
       "      <td>True</td>\n",
       "      <td>True</td>\n",
       "      <td>-7.689717</td>\n",
       "      <td>9.0</td>\n",
       "      <td>two-sided</td>\n",
       "      <td>0.000030</td>\n",
       "      <td>0.000182</td>\n",
       "      <td>bonf</td>\n",
       "      <td>794.164</td>\n",
       "      <td>-3.018507</td>\n",
       "    </tr>\n",
       "    <tr>\n",
       "      <th>3</th>\n",
       "      <td>pagina</td>\n",
       "      <td>login</td>\n",
       "      <td>produtos</td>\n",
       "      <td>True</td>\n",
       "      <td>True</td>\n",
       "      <td>1.890510</td>\n",
       "      <td>9.0</td>\n",
       "      <td>two-sided</td>\n",
       "      <td>0.091262</td>\n",
       "      <td>0.547572</td>\n",
       "      <td>bonf</td>\n",
       "      <td>1.128</td>\n",
       "      <td>0.780713</td>\n",
       "    </tr>\n",
       "    <tr>\n",
       "      <th>4</th>\n",
       "      <td>pagina</td>\n",
       "      <td>login</td>\n",
       "      <td>contato</td>\n",
       "      <td>True</td>\n",
       "      <td>True</td>\n",
       "      <td>0.000000</td>\n",
       "      <td>9.0</td>\n",
       "      <td>two-sided</td>\n",
       "      <td>1.000000</td>\n",
       "      <td>1.000000</td>\n",
       "      <td>bonf</td>\n",
       "      <td>0.309</td>\n",
       "      <td>0.000000</td>\n",
       "    </tr>\n",
       "    <tr>\n",
       "      <th>5</th>\n",
       "      <td>pagina</td>\n",
       "      <td>produtos</td>\n",
       "      <td>contato</td>\n",
       "      <td>True</td>\n",
       "      <td>True</td>\n",
       "      <td>-1.858241</td>\n",
       "      <td>9.0</td>\n",
       "      <td>two-sided</td>\n",
       "      <td>0.096082</td>\n",
       "      <td>0.576493</td>\n",
       "      <td>bonf</td>\n",
       "      <td>1.086</td>\n",
       "      <td>-0.899435</td>\n",
       "    </tr>\n",
       "  </tbody>\n",
       "</table>\n",
       "</div>"
      ],
      "text/plain": [
       "  Contrast          A         B  Paired  Parametric         T  dof       Tail  \\\n",
       "0   pagina  principal     login    True        True -5.885047  9.0  two-sided   \n",
       "1   pagina  principal  produtos    True        True -3.033858  9.0  two-sided   \n",
       "2   pagina  principal   contato    True        True -7.689717  9.0  two-sided   \n",
       "3   pagina      login  produtos    True        True  1.890510  9.0  two-sided   \n",
       "4   pagina      login   contato    True        True  0.000000  9.0  two-sided   \n",
       "5   pagina   produtos   contato    True        True -1.858241  9.0  two-sided   \n",
       "\n",
       "      p-unc    p-corr p-adjust     BF10    hedges  \n",
       "0  0.000233  0.001400     bonf  138.871 -2.300862  \n",
       "1  0.014158  0.084948     bonf    4.698 -1.437831  \n",
       "2  0.000030  0.000182     bonf  794.164 -3.018507  \n",
       "3  0.091262  0.547572     bonf    1.128  0.780713  \n",
       "4  1.000000  1.000000     bonf    0.309  0.000000  \n",
       "5  0.096082  0.576493     bonf    1.086 -0.899435  "
      ]
     },
     "metadata": {},
     "output_type": "display_data"
    },
    {
     "data": {
      "text/html": [
       "<div>\n",
       "<style scoped>\n",
       "    .dataframe tbody tr th:only-of-type {\n",
       "        vertical-align: middle;\n",
       "    }\n",
       "\n",
       "    .dataframe tbody tr th {\n",
       "        vertical-align: top;\n",
       "    }\n",
       "\n",
       "    .dataframe thead th {\n",
       "        text-align: right;\n",
       "    }\n",
       "</style>\n",
       "<table border=\"1\" class=\"dataframe\">\n",
       "  <thead>\n",
       "    <tr style=\"text-align: right;\">\n",
       "      <th></th>\n",
       "      <th>Contrast</th>\n",
       "      <th>A</th>\n",
       "      <th>B</th>\n",
       "      <th>Paired</th>\n",
       "      <th>Parametric</th>\n",
       "      <th>T</th>\n",
       "      <th>dof</th>\n",
       "      <th>Tail</th>\n",
       "      <th>p-unc</th>\n",
       "      <th>p-corr</th>\n",
       "      <th>p-adjust</th>\n",
       "      <th>BF10</th>\n",
       "      <th>hedges</th>\n",
       "    </tr>\n",
       "  </thead>\n",
       "  <tbody>\n",
       "    <tr>\n",
       "      <th>0</th>\n",
       "      <td>pagina</td>\n",
       "      <td>principal</td>\n",
       "      <td>login</td>\n",
       "      <td>True</td>\n",
       "      <td>True</td>\n",
       "      <td>-5.885047</td>\n",
       "      <td>9.0</td>\n",
       "      <td>two-sided</td>\n",
       "      <td>0.000233</td>\n",
       "      <td>0.001400</td>\n",
       "      <td>bonf</td>\n",
       "      <td>138.871</td>\n",
       "      <td>-2.300862</td>\n",
       "    </tr>\n",
       "    <tr>\n",
       "      <th>2</th>\n",
       "      <td>pagina</td>\n",
       "      <td>principal</td>\n",
       "      <td>contato</td>\n",
       "      <td>True</td>\n",
       "      <td>True</td>\n",
       "      <td>-7.689717</td>\n",
       "      <td>9.0</td>\n",
       "      <td>two-sided</td>\n",
       "      <td>0.000030</td>\n",
       "      <td>0.000182</td>\n",
       "      <td>bonf</td>\n",
       "      <td>794.164</td>\n",
       "      <td>-3.018507</td>\n",
       "    </tr>\n",
       "  </tbody>\n",
       "</table>\n",
       "</div>"
      ],
      "text/plain": [
       "  Contrast          A        B  Paired  Parametric         T  dof       Tail  \\\n",
       "0   pagina  principal    login    True        True -5.885047  9.0  two-sided   \n",
       "2   pagina  principal  contato    True        True -7.689717  9.0  two-sided   \n",
       "\n",
       "      p-unc    p-corr p-adjust     BF10    hedges  \n",
       "0  0.000233  0.001400     bonf  138.871 -2.300862  \n",
       "2  0.000030  0.000182     bonf  794.164 -3.018507  "
      ]
     },
     "execution_count": 23,
     "metadata": {},
     "output_type": "execute_result"
    }
   ],
   "source": [
    "t_test_results = pg.pairwise_ttests(dv='erro', within='pagina', data=dataset2,\n",
    "                   padjust='bonf') # one-step Bonferroni correction\n",
    "\n",
    "display(t_test_results)\n",
    "\n",
    "# valor-p < 0.05\n",
    "t_test_results[t_test_results['p-corr'] < 0.05]"
   ]
  },
  {
   "cell_type": "markdown",
   "metadata": {},
   "source": [
    "A pagina principal tem relação significativa com as paginas de contato e login em relação ao erro. \n",
    "\n",
    "Vamos testar as combinações com um teste unicaudal inferior (esquerdo) e verificar qual é melhor."
   ]
  },
  {
   "cell_type": "markdown",
   "metadata": {},
   "source": [
    "## Teste-t Unicaudal Esquerdo (tail = \"less\")"
   ]
  },
  {
   "cell_type": "code",
   "execution_count": 24,
   "metadata": {},
   "outputs": [
    {
     "data": {
      "text/html": [
       "<div>\n",
       "<style scoped>\n",
       "    .dataframe tbody tr th:only-of-type {\n",
       "        vertical-align: middle;\n",
       "    }\n",
       "\n",
       "    .dataframe tbody tr th {\n",
       "        vertical-align: top;\n",
       "    }\n",
       "\n",
       "    .dataframe thead th {\n",
       "        text-align: right;\n",
       "    }\n",
       "</style>\n",
       "<table border=\"1\" class=\"dataframe\">\n",
       "  <thead>\n",
       "    <tr style=\"text-align: right;\">\n",
       "      <th></th>\n",
       "      <th>T</th>\n",
       "      <th>dof</th>\n",
       "      <th>tail</th>\n",
       "      <th>p-val</th>\n",
       "      <th>CI95%</th>\n",
       "      <th>cohen-d</th>\n",
       "      <th>BF10</th>\n",
       "      <th>power</th>\n",
       "    </tr>\n",
       "  </thead>\n",
       "  <tbody>\n",
       "    <tr>\n",
       "      <th>T-test</th>\n",
       "      <td>-7.689717</td>\n",
       "      <td>9</td>\n",
       "      <td>less</td>\n",
       "      <td>0.000015</td>\n",
       "      <td>[-inf, -11.88]</td>\n",
       "      <td>3.151676</td>\n",
       "      <td>1588.328</td>\n",
       "      <td>1.0</td>\n",
       "    </tr>\n",
       "  </tbody>\n",
       "</table>\n",
       "</div>"
      ],
      "text/plain": [
       "               T  dof  tail     p-val           CI95%   cohen-d      BF10  \\\n",
       "T-test -7.689717    9  less  0.000015  [-inf, -11.88]  3.151676  1588.328   \n",
       "\n",
       "        power  \n",
       "T-test    1.0  "
      ]
     },
     "metadata": {},
     "output_type": "display_data"
    },
    {
     "name": "stdout",
     "output_type": "stream",
     "text": [
      "Valor-p principal-contato: 1.5159502422683217e-05\n"
     ]
    }
   ],
   "source": [
    "# Teste-t Unicaudal Esquerdo (tail = \"less\") entre as paginas principal e contato\n",
    "\n",
    "# Vamos extrair as observações para dois tipos de páginas\n",
    "principal = dataset2[dataset2['pagina'] == \"principal\"]\n",
    "contato = dataset2[dataset2['pagina'] == \"contato\"]\n",
    "\n",
    "# Teste-t Unicaudal Esquerdo\n",
    "resultado_testet1 = pg.ttest(x=principal['erro'], y=contato['erro'], tail = \"less\", paired=True)\n",
    "\n",
    "display(resultado_testet1)\n",
    "\n",
    "print(\"Valor-p principal-contato: {}\".format(resultado_testet1['p-val'][0]))"
   ]
  },
  {
   "cell_type": "markdown",
   "metadata": {},
   "source": [
    "Como valor-p é menor que 0,05, rejeitamos a hipótese nula do teste t unicaudal e concluímos que  a página principal apresenta menos erros que a página de contato."
   ]
  },
  {
   "cell_type": "code",
   "execution_count": 25,
   "metadata": {},
   "outputs": [
    {
     "data": {
      "text/html": [
       "<div>\n",
       "<style scoped>\n",
       "    .dataframe tbody tr th:only-of-type {\n",
       "        vertical-align: middle;\n",
       "    }\n",
       "\n",
       "    .dataframe tbody tr th {\n",
       "        vertical-align: top;\n",
       "    }\n",
       "\n",
       "    .dataframe thead th {\n",
       "        text-align: right;\n",
       "    }\n",
       "</style>\n",
       "<table border=\"1\" class=\"dataframe\">\n",
       "  <thead>\n",
       "    <tr style=\"text-align: right;\">\n",
       "      <th></th>\n",
       "      <th>T</th>\n",
       "      <th>dof</th>\n",
       "      <th>tail</th>\n",
       "      <th>p-val</th>\n",
       "      <th>CI95%</th>\n",
       "      <th>cohen-d</th>\n",
       "      <th>BF10</th>\n",
       "      <th>power</th>\n",
       "    </tr>\n",
       "  </thead>\n",
       "  <tbody>\n",
       "    <tr>\n",
       "      <th>T-test</th>\n",
       "      <td>-5.885047</td>\n",
       "      <td>9</td>\n",
       "      <td>less</td>\n",
       "      <td>0.000117</td>\n",
       "      <td>[-inf, -10.74]</td>\n",
       "      <td>2.40237</td>\n",
       "      <td>277.741</td>\n",
       "      <td>1.0</td>\n",
       "    </tr>\n",
       "  </tbody>\n",
       "</table>\n",
       "</div>"
      ],
      "text/plain": [
       "               T  dof  tail     p-val           CI95%  cohen-d     BF10  power\n",
       "T-test -5.885047    9  less  0.000117  [-inf, -10.74]  2.40237  277.741    1.0"
      ]
     },
     "metadata": {},
     "output_type": "display_data"
    },
    {
     "name": "stdout",
     "output_type": "stream",
     "text": [
      "Valor-p principal-login: 0.00011668022941126996\n"
     ]
    }
   ],
   "source": [
    "# Teste-t Unicaudal Esquerdo (tail = \"less\") entre as paginas principal e login\n",
    "\n",
    "# Vamos extrair as observações para dois tipos de páginas\n",
    "principal = dataset2[dataset2['pagina'] == \"principal\"]\n",
    "login = dataset2[dataset2['pagina'] == \"login\"]\n",
    "\n",
    "# Teste-t Unicaudal Esquerdo\n",
    "resultado_testet2 = pg.ttest(x=principal['erro'], y=login['erro'], tail = \"less\", paired=True)\n",
    "\n",
    "display(resultado_testet2)\n",
    "\n",
    "print(\"Valor-p principal-login: {}\".format(resultado_testet2['p-val'][0]))"
   ]
  },
  {
   "cell_type": "markdown",
   "metadata": {},
   "source": [
    "Como valor-p é menor que 0,05, rejeitamos a hipótese nula do teste t unicaudal e concluímos que  a página principal apresenta menos erros que a página de login."
   ]
  },
  {
   "cell_type": "code",
   "execution_count": 26,
   "metadata": {},
   "outputs": [
    {
     "data": {
      "text/html": [
       "<div>\n",
       "<style scoped>\n",
       "    .dataframe tbody tr th:only-of-type {\n",
       "        vertical-align: middle;\n",
       "    }\n",
       "\n",
       "    .dataframe tbody tr th {\n",
       "        vertical-align: top;\n",
       "    }\n",
       "\n",
       "    .dataframe thead th {\n",
       "        text-align: right;\n",
       "    }\n",
       "</style>\n",
       "<table border=\"1\" class=\"dataframe\">\n",
       "  <thead>\n",
       "    <tr style=\"text-align: right;\">\n",
       "      <th></th>\n",
       "      <th>T</th>\n",
       "      <th>dof</th>\n",
       "      <th>tail</th>\n",
       "      <th>p-val</th>\n",
       "      <th>CI95%</th>\n",
       "      <th>cohen-d</th>\n",
       "      <th>BF10</th>\n",
       "      <th>power</th>\n",
       "    </tr>\n",
       "  </thead>\n",
       "  <tbody>\n",
       "    <tr>\n",
       "      <th>T-test</th>\n",
       "      <td>-3.033858</td>\n",
       "      <td>9</td>\n",
       "      <td>less</td>\n",
       "      <td>0.007079</td>\n",
       "      <td>[-inf, -3.44]</td>\n",
       "      <td>1.501265</td>\n",
       "      <td>9.396</td>\n",
       "      <td>0.996652</td>\n",
       "    </tr>\n",
       "  </tbody>\n",
       "</table>\n",
       "</div>"
      ],
      "text/plain": [
       "               T  dof  tail     p-val          CI95%   cohen-d   BF10  \\\n",
       "T-test -3.033858    9  less  0.007079  [-inf, -3.44]  1.501265  9.396   \n",
       "\n",
       "           power  \n",
       "T-test  0.996652  "
      ]
     },
     "metadata": {},
     "output_type": "display_data"
    },
    {
     "name": "stdout",
     "output_type": "stream",
     "text": [
      "Valor-p principal-produtos: 0.007078981448739572\n"
     ]
    }
   ],
   "source": [
    "# Teste-t Unicaudal Esquerdo (tail = \"less\") entre as paginas principal e produtos\n",
    "\n",
    "# Vamos extrair as observações para dois tipos de páginas\n",
    "principal = dataset2[dataset2['pagina'] == \"principal\"]\n",
    "produtos = dataset2[dataset2['pagina'] == \"produtos\"]\n",
    "\n",
    "# Teste-t Unicaudal Esquerdo\n",
    "resultado_testet3 = pg.ttest(x=principal['erro'], y=produtos['erro'], tail = \"less\", paired=True)\n",
    "\n",
    "display(resultado_testet3)\n",
    "\n",
    "print(\"Valor-p principal-produtos: {}\".format(resultado_testet3['p-val'][0]))"
   ]
  },
  {
   "cell_type": "markdown",
   "metadata": {},
   "source": [
    "Como valor-p é menor que 0,05, rejeitamos a hipótese nula do teste t unicaudal e concluímos que  a página principal apresenta menos erros que a página de produtos."
   ]
  },
  {
   "cell_type": "markdown",
   "metadata": {},
   "source": [
    "## Visualizações"
   ]
  },
  {
   "cell_type": "code",
   "execution_count": 27,
   "metadata": {},
   "outputs": [
    {
     "data": {
      "text/plain": [
       "Text(0, 0.5, 'Tempo')"
      ]
     },
     "execution_count": 27,
     "metadata": {},
     "output_type": "execute_result"
    },
    {
     "data": {
      "image/png": "[encoded data removed]",
      "text/plain": [
       "<Figure size 1440x720 with 1 Axes>"
      ]
     },
     "metadata": {
      "needs_background": "light"
     },
     "output_type": "display_data"
    }
   ],
   "source": [
    "# Boxplot \n",
    "sns.boxplot(x = 'pagina', y = 'tempo', data = dataset2, orient='v', palette=\"Set3\")\n",
    "\n",
    "plt.title(\"Boxplots Para Cada Tipo de Página\")\n",
    "plt.xlabel(\"Página\")\n",
    "plt.ylabel(\"Tempo\")\n"
   ]
  },
  {
   "cell_type": "markdown",
   "metadata": {},
   "source": [
    "De acordo com o Boxplot acima, percebemos que a pagina de produtos é a que leva mais tempo para carregar.\n",
    "\n",
    "Portanto, essa página deve ser revisada para reduzir o tempo de carregamento. O resultado foi o mesmo nas duas amostras."
   ]
  },
  {
   "cell_type": "code",
   "execution_count": 28,
   "metadata": {},
   "outputs": [
    {
     "data": {
      "text/plain": [
       "Text(0, 0.5, 'Erro')"
      ]
     },
     "execution_count": 28,
     "metadata": {},
     "output_type": "execute_result"
    },
    {
     "data": {
      "image/png": "[encoded data removed]",
      "text/plain": [
       "<Figure size 1440x720 with 1 Axes>"
      ]
     },
     "metadata": {
      "needs_background": "light"
     },
     "output_type": "display_data"
    }
   ],
   "source": [
    "# Boxplot \n",
    "sns.boxplot(x = 'pagina', y = 'erro', data = dataset2, orient='v', palette=\"Set3\")\n",
    "\n",
    "plt.title(\"Boxplots Para Cada Tipo de Página\")\n",
    "plt.xlabel(\"Página\")\n",
    "plt.ylabel(\"Erro\")\n"
   ]
  },
  {
   "cell_type": "markdown",
   "metadata": {},
   "source": [
    "De acordo com o Boxplot acima, a pagina principal é a que apresenta menor número de erros.\n",
    "\n",
    "A pagina de login é a que apresenta mais erros (provavelmente por conta de senha errada, por exemplo)."
   ]
  }
 ],
 "metadata": {
  "kernelspec": {
   "display_name": "Python 3",
   "language": "python",
   "name": "python3"
  },
  "language_info": {
   "codemirror_mode": {
    "name": "ipython",
    "version": 3
   },
   "file_extension": ".py",
   "mimetype": "text/x-python",
   "name": "python",
   "nbconvert_exporter": "python",
   "pygments_lexer": "ipython3",
   "version": "3.7.4"
  }
 },
 "nbformat": 4,
 "nbformat_minor": 4
}
